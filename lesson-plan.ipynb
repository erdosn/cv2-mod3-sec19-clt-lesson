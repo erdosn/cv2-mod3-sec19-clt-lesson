{
 "cells": [
  {
   "cell_type": "markdown",
   "metadata": {},
   "source": [
    "### Questions"
   ]
  },
  {
   "cell_type": "markdown",
   "metadata": {},
   "source": [
    "### Objectives\n",
    "YWBAT \n",
    "* apply the clt (central limit theorem) to find the mean and std of a population\n",
    "* define the clt\n",
    "    * a statistic across multiple samples (a sampling distribution) will be normal, centered on the population statistic\n",
    "* use sampling to find sampling statistics"
   ]
  },
  {
   "cell_type": "markdown",
   "metadata": {},
   "source": [
    "### Outline\n",
    "* Watch Mr. Nystrom\n",
    "* Make some data\n",
    "* apply clt to find stats on our data"
   ]
  },
  {
   "cell_type": "code",
   "execution_count": 4,
   "metadata": {},
   "outputs": [],
   "source": [
    "import pandas as pd\n",
    "import numpy as np\n",
    "\n",
    "import scipy.stats as scs\n",
    "\n",
    "import matplotlib.pyplot as plt\n",
    "\n",
    "np.random.seed(42)"
   ]
  },
  {
   "cell_type": "code",
   "execution_count": 3,
   "metadata": {},
   "outputs": [],
   "source": [
    "def make_hist(arr):\n",
    "    plt.figure(figsize=(5, 5))\n",
    "    plt.grid(linestyle='dashed')\n",
    "    plt.hist(arr, color='r', alpha=0.5)\n",
    "    plt.show()"
   ]
  },
  {
   "cell_type": "markdown",
   "metadata": {},
   "source": [
    "## Create some non normal data"
   ]
  },
  {
   "cell_type": "code",
   "execution_count": 7,
   "metadata": {},
   "outputs": [
    {
     "data": {
      "image/png": "[encoded data removed]",
      "text/plain": [
       "<Figure size 432x288 with 1 Axes>"
      ]
     },
     "metadata": {
      "needs_background": "light"
     },
     "output_type": "display_data"
    }
   ],
   "source": [
    "# height of a population\n",
    "# we don't know what our data is\n",
    "population1 = np.random.randint(50, 80, size=200)\n",
    "population2 = np.random.randint(60, 150, size=200)\n",
    "\n",
    "population = np.column_stack([population1, population2]).flatten()\n",
    "\n",
    "plt.hist(population)\n",
    "plt.show()"
   ]
  },
  {
   "cell_type": "code",
   "execution_count": 13,
   "metadata": {},
   "outputs": [
    {
     "name": "stdout",
     "output_type": "stream",
     "text": [
      "[84.275, 88.7, 77.475, 85.3, 81.5, 78.0, 81.05, 78.25, 87.425, 92.45, 83.275, 84.425, 88.9, 84.0, 87.775, 78.175, 85.2, 89.3, 81.0, 86.675, 92.075, 89.075, 89.525, 79.875, 83.925, 81.8, 88.175, 87.5, 83.875, 81.375]\n"
     ]
    }
   ],
   "source": [
    "# let's take 30 samples\n",
    "\n",
    "# let's calculate the mean of the population, acting like we don't know the population\n",
    "\n",
    "samp_means = []\n",
    "\n",
    "for i in range(30):\n",
    "    # took a sample of 40 people\n",
    "    samp = np.random.choice(population, size=40)\n",
    "    # calculated the mean\n",
    "    samp_mean = samp.mean()\n",
    "    # add that to our samp_means\n",
    "    samp_means.append(samp_mean)\n",
    "    \n",
    "print(samp_means)"
   ]
  },
  {
   "cell_type": "code",
   "execution_count": 14,
   "metadata": {},
   "outputs": [
    {
     "data": {
      "text/plain": [
       "(84.67833333333334, 84.8975, 0.21916666666665208)"
      ]
     },
     "execution_count": 14,
     "metadata": {},
     "output_type": "execute_result"
    }
   ],
   "source": [
    "estimated_mean = np.mean(samp_means)\n",
    "true_mean = population.mean()\n",
    "\n",
    "estimated_mean, true_mean, np.abs(estimated_mean-true_mean)"
   ]
  },
  {
   "cell_type": "markdown",
   "metadata": {},
   "source": [
    "#### notice we were only off by 0.219"
   ]
  },
  {
   "cell_type": "markdown",
   "metadata": {},
   "source": [
    "### How confident are we about this mean? "
   ]
  },
  {
   "cell_type": "code",
   "execution_count": 18,
   "metadata": {},
   "outputs": [
    {
     "data": {
      "image/png": "[encoded data removed]",
      "text/plain": [
       "<Figure size 432x288 with 1 Axes>"
      ]
     },
     "metadata": {
      "needs_background": "light"
     },
     "output_type": "display_data"
    }
   ],
   "source": [
    "estimated_mean = np.mean(samp_means)\n",
    "sample_standard_deviation = np.std(samp_means, ddof=1)\n",
    "\n",
    "hyp_dis_of_mean = np.random.normal(estimated_mean, sample_standard_deviation, size=100)\n",
    "\n",
    "plt.hist(hyp_dis_of_mean)\n",
    "plt.title(\"Sampling Distribution of Means\\nWith Sample Standard Deviation\")\n",
    "plt.vlines(x=estimated_mean, ymin=0, ymax=25, linestyle='dashed', \n",
    "           linewidth=2, colors='r', label='calc mean')\n",
    "plt.legend()\n",
    "plt.show()"
   ]
  },
  {
   "cell_type": "code",
   "execution_count": 20,
   "metadata": {},
   "outputs": [
    {
     "data": {
      "text/plain": [
       "(71.99568057318561, 97.36098609348107)"
      ]
     },
     "execution_count": 20,
     "metadata": {},
     "output_type": "execute_result"
    }
   ],
   "source": [
    "lower_99 = estimated_mean - 3*sample_standard_deviation\n",
    "upper_99 = estimated_mean + 3*sample_standard_deviation\n",
    "\n",
    "lower_99, upper_99"
   ]
  },
  {
   "cell_type": "code",
   "execution_count": 22,
   "metadata": {},
   "outputs": [
    {
     "data": {
      "text/plain": [
       "(80.4507824132841, 88.90588425338258)"
      ]
     },
     "execution_count": 22,
     "metadata": {},
     "output_type": "execute_result"
    }
   ],
   "source": [
    "lower_67 = estimated_mean - 1*sample_standard_deviation\n",
    "upper_67 = estimated_mean + 1*sample_standard_deviation\n",
    "\n",
    "lower_67, upper_67"
   ]
  },
  {
   "cell_type": "markdown",
   "metadata": {},
   "source": [
    "### Assessment"
   ]
  },
  {
   "cell_type": "code",
   "execution_count": null,
   "metadata": {},
   "outputs": [],
   "source": []
  }
 ],
 "metadata": {
  "kernelspec": {
   "display_name": "Python 3",
   "language": "python",
   "name": "python3"
  },
  "language_info": {
   "codemirror_mode": {
    "name": "ipython",
    "version": 3
   },
   "file_extension": ".py",
   "mimetype": "text/x-python",
   "name": "python",
   "nbconvert_exporter": "python",
   "pygments_lexer": "ipython3",
   "version": "3.6.0"
  }
 },
 "nbformat": 4,
 "nbformat_minor": 2
}
